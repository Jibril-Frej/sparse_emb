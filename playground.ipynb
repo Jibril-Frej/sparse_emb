{
 "cells": [
  {
   "cell_type": "code",
   "execution_count": 1,
   "metadata": {},
   "outputs": [],
   "source": [
    "import torch"
   ]
  },
  {
   "cell_type": "markdown",
   "metadata": {},
   "source": [
    "### Create random tensor"
   ]
  },
  {
   "cell_type": "code",
   "execution_count": 2,
   "metadata": {},
   "outputs": [],
   "source": [
    "dense = torch.randn(10, 10)"
   ]
  },
  {
   "cell_type": "markdown",
   "metadata": {},
   "source": [
    "### Define a MLP that projects input of size 10 to inputs of size 100"
   ]
  },
  {
   "cell_type": "code",
   "execution_count": 4,
   "metadata": {},
   "outputs": [],
   "source": [
    "mlp = torch.nn.Sequential(\n",
    "    torch.nn.Linear(10, 20),\n",
    "    torch.nn.ReLU(),\n",
    "    torch.nn.Linear(20, 50),\n",
    "    torch.nn.ReLU(),\n",
    ")"
   ]
  },
  {
   "cell_type": "markdown",
   "metadata": {},
   "source": [
    "### Train the mlp to project the dense embeddings to sparse embeddings while preserving their cosine similarity"
   ]
  },
  {
   "cell_type": "code",
   "execution_count": 3,
   "metadata": {},
   "outputs": [
    {
     "data": {
      "text/plain": [
       "tensor([[-0.1096,  0.0485,  1.2549, -0.7401,  0.8545,  0.7824, -0.9457,  1.4310,\n",
       "          0.3385, -0.4368],\n",
       "        [ 1.0834,  0.6181,  0.3474, -1.3816, -0.1732, -0.5125,  0.7623, -0.3456,\n",
       "          0.7454,  1.7781],\n",
       "        [-0.3887, -1.2314, -1.1497,  1.7778,  0.9108, -1.5066,  0.0527,  0.8612,\n",
       "          1.3095, -0.4991],\n",
       "        [ 0.0173,  1.3027,  1.1974, -2.0662, -0.0297, -0.1449,  0.1342,  0.5054,\n",
       "          1.2729, -0.0401],\n",
       "        [-0.5827, -0.2636,  0.6258, -0.3360, -0.0846, -0.3449,  1.2780, -0.8627,\n",
       "         -0.6449, -0.6145],\n",
       "        [ 0.0375, -0.2822, -0.0757, -0.5685, -1.3291,  0.1218,  0.2059,  1.6501,\n",
       "         -0.0877, -0.6495],\n",
       "        [-1.8801,  0.4957, -0.0627,  0.5289,  2.3943,  0.5877, -0.7163,  3.9500,\n",
       "          1.1004,  2.2003],\n",
       "        [ 0.1036, -0.3846,  0.8939,  1.2005,  0.6987, -0.5039, -1.1448,  0.5638,\n",
       "         -0.5499,  1.8114],\n",
       "        [-0.3773, -0.3414,  0.0862, -0.2629, -1.7408,  0.6833,  0.7905,  0.2016,\n",
       "         -2.2648, -0.0842],\n",
       "        [-0.1701, -1.7983,  0.9459, -0.0827,  1.1865,  1.0877, -0.6242, -0.7555,\n",
       "          0.1585,  0.9873]])"
      ]
     },
     "execution_count": 3,
     "metadata": {},
     "output_type": "execute_result"
    }
   ],
   "source": []
  },
  {
   "cell_type": "code",
   "execution_count": null,
   "metadata": {},
   "outputs": [],
   "source": []
  },
  {
   "cell_type": "code",
   "execution_count": null,
   "metadata": {},
   "outputs": [],
   "source": []
  },
  {
   "cell_type": "code",
   "execution_count": null,
   "metadata": {},
   "outputs": [],
   "source": []
  },
  {
   "cell_type": "code",
   "execution_count": null,
   "metadata": {},
   "outputs": [],
   "source": []
  },
  {
   "cell_type": "code",
   "execution_count": null,
   "metadata": {},
   "outputs": [],
   "source": []
  },
  {
   "cell_type": "code",
   "execution_count": null,
   "metadata": {},
   "outputs": [],
   "source": []
  },
  {
   "cell_type": "code",
   "execution_count": null,
   "metadata": {},
   "outputs": [],
   "source": []
  },
  {
   "cell_type": "code",
   "execution_count": null,
   "metadata": {},
   "outputs": [],
   "source": []
  },
  {
   "cell_type": "code",
   "execution_count": null,
   "metadata": {},
   "outputs": [],
   "source": []
  },
  {
   "cell_type": "code",
   "execution_count": null,
   "metadata": {},
   "outputs": [],
   "source": []
  }
 ],
 "metadata": {
  "kernelspec": {
   "display_name": "sparse",
   "language": "python",
   "name": "python3"
  },
  "language_info": {
   "codemirror_mode": {
    "name": "ipython",
    "version": 3
   },
   "file_extension": ".py",
   "mimetype": "text/x-python",
   "name": "python",
   "nbconvert_exporter": "python",
   "pygments_lexer": "ipython3",
   "version": "3.12.3"
  }
 },
 "nbformat": 4,
 "nbformat_minor": 2
}
